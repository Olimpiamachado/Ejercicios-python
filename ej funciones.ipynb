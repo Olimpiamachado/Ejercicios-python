{
 "cells": [
  {
   "cell_type": "markdown",
   "id": "896a1ee8-509b-43f5-a06e-e853dceb05ce",
   "metadata": {},
   "source": [
    "### 1. Suma de dos números:\n",
    "Crea una función que tome dos números como entrada y devuelva su suma.\n"
   ]
  },
  {
   "cell_type": "code",
   "execution_count": 7,
   "id": "5b77e317-e52c-4591-aa60-4e230a4cb8b3",
   "metadata": {},
   "outputs": [
    {
     "name": "stdin",
     "output_type": "stream",
     "text": [
      "Intruduce un número a: 2\n",
      "Intruduce un número b: 8\n"
     ]
    },
    {
     "name": "stdout",
     "output_type": "stream",
     "text": [
      "La suma es: 10\n"
     ]
    }
   ],
   "source": [
    "a = (int)(input('Intruduce un número a:'))\n",
    "b = (int)(input('Intruduce un número b:'))\n",
    "def suma(a,b):\n",
    "    resultado = a + b\n",
    "    return(resultado)\n",
    "print('La suma es:', (suma(a,b)))"
   ]
  },
  {
   "cell_type": "markdown",
   "id": "11697975-543a-413e-80a9-eea5303f528b",
   "metadata": {},
   "source": [
    "### 2. Cálculo del área de un círculo: \n",
    "Escribe una función que calcule el área de un círculo dado su radio."
   ]
  },
  {
   "cell_type": "code",
   "execution_count": 14,
   "id": "b96f8e70-a24c-4488-9315-44a974f34c96",
   "metadata": {},
   "outputs": [
    {
     "name": "stdin",
     "output_type": "stream",
     "text": [
      "Introduzca el radio: 5.00\n"
     ]
    },
    {
     "name": "stdout",
     "output_type": "stream",
     "text": [
      "El área de círculo con radio 5.0 es: 78.54\n"
     ]
    }
   ],
   "source": [
    "import math\n",
    "def calc_area_circulo(radio):\n",
    "    resultado = math.pi * (radio ** 2)\n",
    "    return (resultado)\n",
    "radio = (float)(input('Introduzca el radio:'))\n",
    "area = calc_area_circulo(radio)\n",
    "print(f'El área de círculo con radio {radio} es: {area:.2f}') # :.2f para que el resultado salga con 2 decimales \n"
   ]
  },
  {
   "cell_type": "markdown",
   "id": "88523f0b-5640-4b45-b90b-dba2f3b02096",
   "metadata": {},
   "source": [
    "### 3. Inversión de una cadena: \n",
    "Crea una función que reciba una cadena y la devuelva invertida"
   ]
  },
  {
   "cell_type": "code",
   "execution_count": 15,
   "id": "7340d2d7-59ba-439e-b421-a56ed87ea2b6",
   "metadata": {},
   "outputs": [
    {
     "name": "stdout",
     "output_type": "stream",
     "text": [
      "Cadena original: Python, Cadena invertida nohtyP\n"
     ]
    }
   ],
   "source": [
    "\n",
    "def invertir_cadena(cadena):\n",
    "    return cadena [: : -1] #la cadena coge primer valor, ultimo valor y paso. si el paso es -1, coge los valores al revés.\n",
    "cadena_original= 'Python'\n",
    "cadena_invertida = invertir_cadena(cadena_original)\n",
    "print (f'Cadena original: {cadena_original}, Cadena invertida {cadena_invertida}')\n",
    "\n"
   ]
  },
  {
   "cell_type": "markdown",
   "id": "5224b166-90d3-4e14-9cf3-054b85bec707",
   "metadata": {},
   "source": [
    "### 4. Verificar si un número es par: \n",
    "Diseña una función que determine si un número dado es par o no"
   ]
  },
  {
   "cell_type": "code",
   "execution_count": 17,
   "id": "e2aae372-12f9-45b3-b5be-658081184cf5",
   "metadata": {},
   "outputs": [
    {
     "name": "stdin",
     "output_type": "stream",
     "text": [
      "Inserta un número: 9\n"
     ]
    },
    {
     "name": "stdout",
     "output_type": "stream",
     "text": [
      "9 es impar\n"
     ]
    }
   ],
   "source": [
    "def es_par(numero):\n",
    "    return numero %2 == 0 #% nos da el resto El resultado será TRUE o FALSE\n",
    "        \n",
    "numero = (int)(input('Inserta un número:'))\n",
    "if es_par(numero): #si return devuelv\n",
    "    print(f'{numero} es par')\n",
    "else:\n",
    "    print(f'{numero} es impar')\n",
    "\n",
    "    \n"
   ]
  },
  {
   "cell_type": "code",
   "execution_count": null,
   "id": "7504243a-20ec-47a9-b41a-07e9bea6c4a6",
   "metadata": {},
   "outputs": [],
   "source": []
  }
 ],
 "metadata": {
  "kernelspec": {
   "display_name": "Python 3 (ipykernel)",
   "language": "python",
   "name": "python3"
  },
  "language_info": {
   "codemirror_mode": {
    "name": "ipython",
    "version": 3
   },
   "file_extension": ".py",
   "mimetype": "text/x-python",
   "name": "python",
   "nbconvert_exporter": "python",
   "pygments_lexer": "ipython3",
   "version": "3.12.9"
  }
 },
 "nbformat": 4,
 "nbformat_minor": 5
}
