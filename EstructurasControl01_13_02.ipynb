{
 "cells": [
  {
   "cell_type": "markdown",
   "id": "db88faa6-060f-4cd6-8fb4-2a3cd290d916",
   "metadata": {},
   "source": [
    "### Ejercicio 1: Cálculo del promedio de glucosa\n",
    "  \n",
    "Dada una lista de niveles de glucosa en sangre, calcula el promedio y determina si está dentro del rango normal (70-99 mg/dL).\n",
    "\n",
    "Datos:  \n",
    "\n",
    "- glucosa = [85, 90, 105, 80, 95]\n"
   ]
  },
  {
   "cell_type": "code",
   "execution_count": 2,
   "id": "719dcbf3-4913-479c-bad2-4119bad8ad7d",
   "metadata": {},
   "outputs": [
    {
     "name": "stdout",
     "output_type": "stream",
     "text": [
      "la glucosa está fuera del rango normal\n",
      "91.0\n"
     ]
    }
   ],
   "source": [
    "glucosa = [85, 90, 105, 80, 95]\n",
    "promedio = sum(glucosa) / len(glucosa)\n",
    "if 70 <= promedio <=90:\n",
    "    print('la glucosa está dentro del rango normal')\n",
    "else:\n",
    "    print('la glucosa está fuera del rango normal')\n",
    "    print(promedio)\n",
    "    "
   ]
  },
  {
   "cell_type": "markdown",
   "id": "75b0d4d1-dd3c-43c3-abad-7e5036356316",
   "metadata": {},
   "source": [
    "### Ejercicio 2: Clasificación de pacientes por edad\n",
    "  \n",
    "Crea una lista de edades y clasifica a los pacientes en \"Niños\", \"Adultos\" o \"Ancianos\".\n",
    "\n",
    "Datos:  \n",
    "\n",
    "- edades = [5, 23, 67, 45, 12, 78]"
   ]
  },
  {
   "cell_type": "code",
   "execution_count": 4,
   "id": "8e9dfec9-7f09-4f1e-ac84-62aa176d05b6",
   "metadata": {},
   "outputs": [
    {
     "name": "stdout",
     "output_type": "stream",
     "text": [
      "5: niño\n",
      "23: adulto\n",
      "67: Anciano\n",
      "45: adulto\n",
      "12: adulto\n",
      "78: Anciano\n"
     ]
    }
   ],
   "source": [
    "edades= [5, 23, 67, 45, 12, 78]\n",
    "\n",
    "for edad in edades:\n",
    "    if edad < 12:\n",
    "        print (f'{edad}: niño')\n",
    "    elif 12 <= edad <= 60:\n",
    "        print (f'{edad}: adulto')\n",
    "    else:\n",
    "        print (f'{edad}: Anciano')\n",
    "    \n",
    "    \n",
    "\n"
   ]
  },
  {
   "cell_type": "markdown",
   "id": "d0b6e006-25f0-45a3-85e3-1159b17ce114",
   "metadata": {},
   "source": [
    "### Ejercicio 3: Conteo de signos vitales anormales\n",
    " \n",
    "Dada una lista de frecuencias cardíacas, cuenta cuántas están fuera del rango normal (60-100).\n",
    "\n",
    "Datos:\n",
    "\n",
    "- frecuencias = [55, 70, 110, 85, 90, 120]\n"
   ]
  },
  {
   "cell_type": "code",
   "execution_count": 16,
   "id": "55e27ec9-3084-4147-bacd-29afd4d9e2c0",
   "metadata": {},
   "outputs": [
    {
     "name": "stdout",
     "output_type": "stream",
     "text": [
      "[55, 110, 120] fuera del rango normal 3\n"
     ]
    }
   ],
   "source": [
    "frecuencias = [55, 70, 110, 85, 90, 120]\n",
    "#cont= 0 #añado el contador en 0, para luego meterlo en else y que me cuente el nº de veces que hay secuencias fuera de rango\n",
    "#for frecuencia in frecuencias:\n",
    "    #if 60 <= frecuencia <= 100:\n",
    "        #print (f\" {frecuencia} en el rango normal\")\n",
    "    #else:\n",
    "        #print (f\"{frecuencia} fuera del rango normal\")\n",
    "        #cont += 1\n",
    "#print (f\"{cont} frecuencias fuera de rango\")\n",
    "\n",
    "fuera_rango = [ frecuencia for frecuencia in frecuencias if frecuencia < 60 or frecuencia > 100]\n",
    "print(f\"{fuera_rango} fuera del rango normal {len(fuera_rango)}\")\n",
    "\n",
    "    \n",
    "\n",
    "\n",
    "\n",
    "\n"
   ]
  },
  {
   "cell_type": "markdown",
   "id": "3f43a8a7-3b14-44ed-a0cc-d5a2e22efcc4",
   "metadata": {},
   "source": [
    "### Ejercicio 4: Vacunas pendientes por paciente\n",
    "\n",
    "Dado un diccionario con vacunas recibidas por cada paciente, muestra las vacunas faltantes.\n",
    "\n",
    "Datos: \n",
    "\n",
    "\n",
    "vacunas_obligatorias = {\"Sarampión\", \"Tétanos\", \"Rubeola\"}\n",
    "pacientes = {\n",
    "    \"Paciente1\": {\"Sarampión\", \"Tétanos\"},\n",
    "    \"Paciente2\": {\"Rubeola\"},\n",
    "    \"Paciente3\": {\"Sarampión\", \"Rubeola\", \"Tétanos\"}\n",
    "}\n"
   ]
  },
  {
   "cell_type": "code",
   "execution_count": 27,
   "id": "e9510e2d-d2c3-4382-809e-4b7852c6309a",
   "metadata": {},
   "outputs": [
    {
     "name": "stdout",
     "output_type": "stream",
     "text": [
      "El paciente Paciente1 tiene estas vacunas pendientes: {'Rubeola'}\n",
      "El paciente Paciente2 tiene estas vacunas pendientes: {'Tétanos', 'Sarampión'}\n",
      "El paciente Paciente3 no tiene vacunas pendientes\n"
     ]
    }
   ],
   "source": [
    "vacunas_obligatorias = {\"Sarampión\", \"Tétanos\", \"Rubeola\"} \n",
    "pacientes = { \"Paciente1\": {\"Sarampión\", \"Tétanos\"}, \n",
    "             \"Paciente2\": {\"Rubeola\"}, \n",
    "             \"Paciente3\": {\"Sarampión\", \"Rubeola\", \"Tétanos\"} }\n",
    "\n",
    "for paciente, recibidas in pacientes.items():\n",
    "    pendientes = vacunas_obligatorias - recibidas\n",
    "    if vacunas_obligatorias != recibidas:\n",
    "        print(f'El paciente {paciente} tiene estas vacunas pendientes: {pendientes}')    \n",
    "    else:\n",
    "        print(f'El paciente {paciente} no tiene vacunas pendientes')\n",
    "        \n"
   ]
  },
  {
   "cell_type": "markdown",
   "id": "f2eed056-1d8b-470d-b2d7-3e7423b3ebef",
   "metadata": {},
   "source": [
    "### Ejercicio 5: Cálculo de dosis personalizada\n",
    "  \n",
    "Calcula la dosis de medicamento para múltiples pacientes basándose en su peso y edad.\n",
    "\n",
    "Datos:  \n",
    "\n",
    "\n",
    "pacientes = [\n",
    "    {\"nombre\": \"Juan\", \"edad\": 10, \"peso\": 30},\n",
    "    {\"nombre\": \"María\", \"edad\": 35, \"peso\": 60},\n",
    "    {\"nombre\": \"Pedro\", \"edad\": 70, \"peso\": 75}\n",
    "]\n",
    " \n",
    "-dosis <12 (10 * peso) 13 < edad < 60 (15*peso) edad > 60 (12 * peso)"
   ]
  },
  {
   "cell_type": "code",
   "execution_count": 29,
   "id": "f9101212-6885-41e4-9d24-958121f44ed7",
   "metadata": {},
   "outputs": [
    {
     "name": "stdout",
     "output_type": "stream",
     "text": [
      "Juan tiene una dosis de 300 mg\n",
      "María tiene una dosis de 900 mg\n",
      "Pedro tiene una dosis de 900 mg\n"
     ]
    }
   ],
   "source": [
    "pacientes = [ {\"nombre\": \"Juan\", \"edad\": 10, \"peso\": 30}, \n",
    "             {\"nombre\": \"María\", \"edad\": 35, \"peso\": 60}, \n",
    "             {\"nombre\": \"Pedro\", \"edad\": 70, \"peso\": 75} ]\n",
    "\n",
    "for paciente in pacientes:\n",
    "    if paciente['edad'] < 12:\n",
    "        dosis = 10 * paciente['peso']\n",
    "    elif 13 <= paciente['edad'] <= 60:\n",
    "        dosis = 15 * paciente['peso']\n",
    "    else: \n",
    "        dosis = 12 * paciente['peso']\n",
    "    print (f'{paciente['nombre']} tiene una dosis de {dosis} mg')\n",
    "\n"
   ]
  },
  {
   "cell_type": "markdown",
   "id": "cc86e430-125d-4b6e-b7cb-d6abfed03747",
   "metadata": {},
   "source": [
    "### Ejercicio 6: Monitoreo de temperatura corporal\n",
    "\n",
    "Evalúa si la temperatura corporal de varios pacientes está dentro del rango normal (36.1-37.2°C).\n",
    "\n",
    "Datos:  \n",
    "\n",
    "temperaturas = {\"Paciente1\": 36.5, \"Paciente2\": 38.0, \"Paciente3\": 37.0}\n"
   ]
  },
  {
   "cell_type": "code",
   "execution_count": 30,
   "id": "fdb56890-6a9b-40fd-a59a-42ff0df9d59b",
   "metadata": {},
   "outputs": [
    {
     "name": "stdout",
     "output_type": "stream",
     "text": [
      "La temperatura de Paciente1 está en el rango normal: 36.5\n",
      "La temperatura de Paciente2 está fuera del rango normal: 38.0\n",
      "La temperatura de Paciente3 está en el rango normal: 37.0\n"
     ]
    }
   ],
   "source": [
    "temperaturas = {\"Paciente1\": 36.5, \"Paciente2\": 38.0, \"Paciente3\": 37.0}\n",
    "\n",
    "for paciente, temp in temperaturas.items():\n",
    "    if 36.1 <= temp <= 37.2:\n",
    "        print (f'La temperatura de {paciente} está en el rango normal: {temp}')\n",
    "    else:\n",
    "        print (f'La temperatura de {paciente} está fuera del rango normal: {temp}')\n",
    "\n",
    "    "
   ]
  },
  {
   "cell_type": "markdown",
   "id": "4004064a-c13b-4dbc-9ca5-cd9722fdad05",
   "metadata": {},
   "source": [
    "### Ejercicio 7: Simulación de crecimiento bacteriano con restricciones\n",
    "\n",
    "Simula el crecimiento bacteriano hasta un límite máximo de 10,000 bacterias.\n",
    "\n",
    "Datos iniciales:  \n",
    "\n",
    "bacterias_iniciales = 100"
   ]
  },
  {
   "cell_type": "code",
   "execution_count": 37,
   "id": "7e6c53d4-e343-4078-8999-b7ecb5f29292",
   "metadata": {},
   "outputs": [
    {
     "name": "stdout",
     "output_type": "stream",
     "text": [
      "hora0: 100 bacterias\n",
      "hora1: 200 bacterias\n",
      "hora2: 400 bacterias\n",
      "hora3: 800 bacterias\n",
      "hora4: 1600 bacterias\n",
      "hora5: 3200 bacterias\n",
      "hora6: 6400 bacterias\n",
      "Limite alcanzado en 7 horas\n"
     ]
    }
   ],
   "source": [
    "bacterias_iniciales = 100\n",
    "hora = 0\n",
    "while bacterias_iniciales <= 10000:\n",
    "    print(f'hora{hora}: {bacterias_iniciales} bacterias')\n",
    "    bacterias_iniciales *= 2\n",
    "    hora += 1  #es lo mismo que hora = hora+1\n",
    "\n",
    "print (f'Limite alcanzado en {hora} horas')\n",
    "    \n"
   ]
  },
  {
   "cell_type": "markdown",
   "id": "8982c568-9f25-47c7-8599-2c9686cd5a2c",
   "metadata": {},
   "source": [
    "### Ejercicio 8: Análisis de resultados de laboratorio\n",
    "\n",
    "Dado un diccionario con resultados de análisis, clasifica cada uno como \"Normal\" o \"Anormal\".\n",
    "\n",
    "Datos:  \n",
    "\n",
    "resultados = {\n",
    "    \"Glucosa\": 95,\n",
    "    \"Hemoglobina\": 12,\n",
    "    \"Creatinina\": 1.5\n",
    "}\n",
    "\n",
    "rangos_normales = {\n",
    "    \"Glucosa\": (70, 99),\n",
    "    \"Hemoglobina\": (11, 15),\n",
    "    \"Creatinina\": (0.6, 1.2)\n",
    "}\n"
   ]
  },
  {
   "cell_type": "code",
   "execution_count": 38,
   "id": "57d741fd-6610-42c0-b4d7-20de991ff48a",
   "metadata": {},
   "outputs": [
    {
     "name": "stdout",
     "output_type": "stream",
     "text": [
      " la prueba Glucosa está normal\n",
      " la prueba Hemoglobina está normal\n",
      " la prueba Creatinina está anormal\n"
     ]
    }
   ],
   "source": [
    "resultados = { \"Glucosa\": 95, \n",
    "              \"Hemoglobina\": 12, \n",
    "              \"Creatinina\": 1.5 }\n",
    "\n",
    "rangos_normales = { \"Glucosa\": (70, 99), \n",
    "                   \"Hemoglobina\": (11, 15), \n",
    "                   \"Creatinina\": (0.6, 1.2) }\n",
    "\n",
    "for prueba, valor in resultados.items():\n",
    "    rango = rangos_normales[prueba]\n",
    "    if rango[0] <= valor <= rango[1]:\n",
    "        print(f' la prueba {prueba} está normal')\n",
    "    else:\n",
    "        print(f' la prueba {prueba} está anormal')\n",
    "    \n"
   ]
  },
  {
   "cell_type": "markdown",
   "id": "e2db1258-ddb9-41bf-b66c-95d26bb44db0",
   "metadata": {},
   "source": [
    "### Ejercicio 9: Asignación de tratamientos según diagnóstico\n",
    "\n",
    "Asigna un tratamiento específico según el diagnóstico de cada paciente.\n",
    "\n",
    "Datos:  \n",
    "\n",
    "diagnosticos = [\"Hipoglucemia\", \"Diabetes\", \"Prediabetes\"]\n",
    "tratamientos = {\n",
    "    \"Hipoglucemia\": \"Administrar glucosa\",\n",
    "    \"Diabetes\": \"Iniciar insulina\",\n",
    "    \"Prediabetes\": \"Cambios dietéticos\"\n",
    "}\n"
   ]
  },
  {
   "cell_type": "code",
   "execution_count": 1,
   "id": "03f8b87f-ca2e-4900-ba57-44205da43e1f",
   "metadata": {},
   "outputs": [
    {
     "name": "stdout",
     "output_type": "stream",
     "text": [
      "HipoglucemiaAdministrar glucosa\n",
      "DiabetesIniciar insulina\n",
      "PrediabetesCambios dietéticos\n"
     ]
    }
   ],
   "source": [
    "diagnosticos = [\"Hipoglucemia\", \"Diabetes\", \"Prediabetes\"] \n",
    "tratamientos = { \"Hipoglucemia\": \"Administrar glucosa\", \n",
    "                \"Diabetes\": \"Iniciar insulina\", \n",
    "                \"Prediabetes\": \"Cambios dietéticos\" }\n",
    "\n",
    "for diagnostico in diagnosticos:\n",
    "    print (f'{diagnostico}{tratamientos.get(diagnostico, 'no tiene tratamiento')}')\n",
    "\n"
   ]
  },
  {
   "cell_type": "markdown",
   "id": "a74630e6-7cbe-4ba8-933e-3238121e8f95",
   "metadata": {},
   "source": [
    "### Ejercicio 10: Evaluación de múltiples signos vitales\n",
    "\n",
    "Evalúa varios signos vitales simultáneamente y genera un informe final. Busca anomalías. \n",
    " \n",
    "\n",
    "Datos:\n",
    "\n",
    "signos_vitales = {\n",
    "    \"Paciente1\": {\"FC\": 85, \"Temp\": 37.0, \"PS\": 110, \"PD\": 75},\n",
    "    \"Paciente2\": {\"FC\": 55, \"Temp\": 38.5, \"PS\": 140, \"PD\": 90}\n",
    "}\n"
   ]
  },
  {
   "cell_type": "code",
   "execution_count": 18,
   "id": "4ae5b2fb-140f-4ae9-8663-87479ee4be98",
   "metadata": {},
   "outputs": [
    {
     "name": "stdout",
     "output_type": "stream",
     "text": [
      " El Paciente1 tiene la FC en rango normal: 85\n",
      " El Paciente1 tiene la temp en rango normal: 37.0\n",
      " El Paciente1 tiene la PS en rango normal: 110\n",
      " El Paciente1 tiene la PD anormal: 75\n",
      " El Paciente2 tiene la FC en rango normal: 55\n",
      " El Paciente2 tiene la temp anormal: 38.5\n",
      " El Paciente2 tiene la PS en rango normal: 140\n",
      " El Paciente2 tiene la PD en rango normal: 90\n"
     ]
    }
   ],
   "source": [
    "signos_vitales = { \"Paciente1\": {\"FC\": 85, \"Temp\": 37.0, \"PS\": 110, \"PD\": 75}, \n",
    "                  \"Paciente2\": {\"FC\": 55, \"Temp\": 38.5, \"PS\": 140, \"PD\": 90} }\n",
    "\n",
    "for paciente, valores in signos_vitales.items():\n",
    "    fc = valores['FC']\n",
    "    temp = valores['Temp']\n",
    "    ps = valores['PS']\n",
    "    pd = valores['PD']\n",
    "    \n",
    "    if 50 <= fc <= 90: \n",
    "        print (f' El {paciente} tiene la FC en rango normal: {fc}')\n",
    "    else: \n",
    "        print (f' El {paciente} tiene la FC anormal: {fc}')\n",
    "    if 36.5 <= temp <= 37.2:\n",
    "        print (f' El {paciente} tiene la temp en rango normal: {temp}')\n",
    "    else: \n",
    "        print (f' El {paciente} tiene la temp anormal: {temp}')\n",
    "    if 100 <= ps <= 140: \n",
    "        print (f' El {paciente} tiene la PS en rango normal: {ps}')\n",
    "    else: \n",
    "        print (f' El {paciente} tiene la PS anormal: {ps}')\n",
    "    if 85 <= pd <= 95: \n",
    "        print (f' El {paciente} tiene la PD en rango normal: {pd}')\n",
    "    else: \n",
    "        print (f' El {paciente} tiene la PD anormal: {pd}')\n",
    "        \n",
    "    \n",
    "    \n",
    "\n",
    "\n"
   ]
  },
  {
   "cell_type": "code",
   "execution_count": 25,
   "id": "6e60266f-8da0-416a-8f44-8e032a4d2d3c",
   "metadata": {},
   "outputs": [
    {
     "name": "stdout",
     "output_type": "stream",
     "text": [
      "Paciente1 : Resultados anormales. Presión Sistólica anormal\n",
      "Paciente2 : Resultados anormales. Frecuenca cardiaca anormal,Temperatura anormal,Presión Sistólica anormal\n"
     ]
    }
   ],
   "source": [
    "#Ejercicio 10 otra forma\n",
    "signos_vitales = { \"Paciente1\": {\"FC\": 85, \"Temp\": 37.0, \"PS\": 130, \"PD\": 75}, \n",
    "                  \"Paciente2\": {\"FC\": 55, \"Temp\": 38.5, \"PS\": 140, \"PD\": 80} }\n",
    "\n",
    "for paciente, valores in signos_vitales.items():\n",
    "    anomalias = []\n",
    "    if valores['FC'] < 60 or valores['FC'] > 100:\n",
    "        anomalias.append('Frecuenca cardiaca anormal')\n",
    "        \n",
    "    if valores['Temp'] < 36.1 or valores['Temp'] > 37.2:\n",
    "        anomalias.append('Temperatura anormal')\n",
    "        \n",
    "    if valores['PS'] < 90 or valores['PS'] > 120:\n",
    "        anomalias.append('Presión Sistólica anormal')\n",
    "        \n",
    "    if valores['PD'] <60 or valores['PD'] > 80:   \n",
    "        anomalias.append('Presión Diastólica anormal')\n",
    "        \n",
    "    if anomalias:\n",
    "        print(f'{paciente} : Resultados anormales. {','.join(anomalias)}')\n",
    "        \n",
    "    \n",
    "    \n"
   ]
  },
  {
   "cell_type": "markdown",
   "id": "0f64af9d-7537-48aa-906a-68b7600d392e",
   "metadata": {},
   "source": [
    "### Ejercicio 11: Optimización de dosis en función de múltiples factores\n",
    "\n",
    "Calcula la dosis considerando peso, edad y nivel de severidad del síntoma.\n",
    "\n",
    "Datos:  \n",
    "\n",
    "pacientes = [\n",
    "    {\"nombre\": \"Ana\", \"edad\": 8, \"peso\": 25, \"severidad\": 5},\n",
    "    {\"nombre\": \"Carlos\", \"edad\": 45, \"peso\": 70, \"severidad\": 8}\n",
    "]\n",
    "\n",
    "dosis <12 (10 * peso) 13 < edad < 60 (15*peso) edad > 60 (12 * peso) Si severidad>5, la dosis es el doble."
   ]
  },
  {
   "cell_type": "code",
   "execution_count": 16,
   "id": "a88e0aa2-61bc-4ef1-9a9f-bc6dae8b6071",
   "metadata": {},
   "outputs": [
    {
     "name": "stdout",
     "output_type": "stream",
     "text": [
      "El paciente Ana tiene la siguiente dosis: 250 mg\n",
      "El paciente Carlos tiene la siguiente dosis: 2100 mg\n"
     ]
    }
   ],
   "source": [
    "pacientes = [ {\"nombre\": \"Ana\", \"edad\": 8, \"peso\": 25, \"severidad\": 5}, {\"nombre\": \"Carlos\", \"edad\": 45, \"peso\": 70, \"severidad\": 8} ]\n",
    "\n",
    "for paciente in pacientes:\n",
    "    if paciente['edad'] < 12:\n",
    "        dosis = paciente['peso'] * 10    \n",
    "    elif 12 <= paciente['edad'] <= 60:\n",
    "        dosis = paciente['peso'] * 15\n",
    "    else:\n",
    "        dosis = paciente['peso'] * 12\n",
    "    if paciente['severidad'] > 5:\n",
    "        dosis_ajustada = dosis * 2\n",
    "    else:\n",
    "        dosis_ajustada = dosis\n",
    "    print(f'El paciente {paciente['nombre']} tiene la siguiente dosis: {dosis_ajustada} mg')\n",
    "\n",
    "        \n",
    "\n",
    "        \n",
    "\n"
   ]
  },
  {
   "cell_type": "code",
   "execution_count": 26,
   "id": "b858e054-f3ca-46cc-ad5f-558495871a47",
   "metadata": {},
   "outputs": [
    {
     "name": "stdout",
     "output_type": "stream",
     "text": [
      "Ana: Dosis = 375.0 mg\n",
      "Carlos: Dosis = 1890.0 mg\n"
     ]
    }
   ],
   "source": [
    "#Ejercicio 11 otra forma\n",
    "\n",
    "def calcular_dosis(peso, edad, severidad):\n",
    "    #Determinar la dosis según el peso:\n",
    "    if edad < 12:\n",
    "        base = 10 #Los niños reciben 10 mg\n",
    "    elif 12 <= edad <= 60:\n",
    "        base = 15\n",
    "    else:\n",
    "        base = 12\n",
    "    factor_severidad = 1 + (severidad/10)\n",
    "    return base * peso * factor_severidad\n",
    "\n",
    "#lista pacientes\n",
    "pacientes = [ {\"nombre\": \"Ana\", \"edad\": 8, \"peso\": 25, \"severidad\": 5}, {\"nombre\": \"Carlos\", \"edad\": 45, \"peso\": 70, \"severidad\": 8} ]\n",
    "\n",
    "for paciente in pacientes:\n",
    "    nombre = paciente['nombre']\n",
    "    edad = paciente ['edad']\n",
    "    peso = paciente ['peso']\n",
    "    severidad = paciente ['severidad']\n",
    "\n",
    "    dosis = calcular_dosis(peso, edad, severidad)\n",
    "    print(f'{nombre}: Dosis = {dosis} mg')\n",
    "    \n",
    "    \n",
    "    \n",
    "    \n"
   ]
  },
  {
   "cell_type": "markdown",
   "id": "91c5c823-dfb5-43c6-b9a7-b3fe9b3a562b",
   "metadata": {},
   "source": [
    "### Ejercicio 12: Seguimiento de evolución clínica\n",
    "\n",
    "Registra la evolución de un paciente durante varias consultas.\n",
    "\n",
    "Datos:  \n",
    "\n",
    "evolucion = [\n",
    "    {\"fecha\": \"2023-10-01\", \"glucosa\": 95, \"presion\": (110, 75)},\n",
    "    {\"fecha\": \"2023-10-05\", \"glucosa\": 100, \"presion\": (120, 80)},\n",
    "    {\"fecha\": \"2023-10-10\", \"glucosa\": 110, \"presion\": (130, 85)}\n",
    "]"
   ]
  },
  {
   "cell_type": "code",
   "execution_count": 31,
   "id": "bf7f3cc7-4f50-41dc-85b6-70374fd0e344",
   "metadata": {},
   "outputs": [
    {
     "name": "stdout",
     "output_type": "stream",
     "text": [
      "Fecha: 2023-10-01\n",
      " Glucosa: 95\n",
      " presión arterial: Normal\n",
      "\n",
      "Fecha: 2023-10-05\n",
      " Glucosa: 100\n",
      " presión arterial: Normal\n",
      "\n",
      "Fecha: 2023-10-10\n",
      " Glucosa: 110\n",
      " presión arterial: Anormal\n",
      "\n"
     ]
    }
   ],
   "source": [
    "evolucion = [ {\"fecha\": \"2023-10-01\", \"glucosa\": 95, \"presion\": (110, 75)},\n",
    "             {\"fecha\": \"2023-10-05\", \"glucosa\": 100, \"presion\": (120, 80)},\n",
    "             {\"fecha\": \"2023-10-10\", \"glucosa\": 110, \"presion\": (130, 85)} ]\n",
    "\n",
    "for consulta in evolucion: \n",
    "    fecha = consulta['fecha']\n",
    "    glucosa = consulta['glucosa']\n",
    "    presion_sistolica, presion_diastolica = consulta['presion']\n",
    "\n",
    "    #Evaluar\n",
    "    if 90 <= presion_sistolica <= 120 and 60 <= presion_diastolica <= 80:\n",
    "        estado_presion = 'Normal'\n",
    "    else:\n",
    "        estado_presion = 'Anormal'\n",
    "    print(f'Fecha: {fecha}')\n",
    "    print (f' Glucosa: {glucosa}')\n",
    "    print (f' presión arterial: {estado_presion}\\n') #\\n es para hacer un salto de linea\n",
    "\n"
   ]
  },
  {
   "cell_type": "markdown",
   "id": "5892a42e-1632-4678-9274-e8a95df306a5",
   "metadata": {},
   "source": [
    "### Ejercicio 13: Análisis de correlación entre variables\n",
    "  \n",
    "Determina si existe una correlación entre glucosa y presión arterial.\n",
    "\n",
    "Datos:  \n",
    "\n",
    "datos = [\n",
    "    {\"glucosa\": 95, \"presion\": (110, 75)},\n",
    "    {\"glucosa\": 100, \"presion\": (120, 80)},\n",
    "    {\"glucosa\": 110, \"presion\": (130, 85)}\n",
    "]"
   ]
  },
  {
   "cell_type": "code",
   "execution_count": 36,
   "id": "0dca8ab4-b72d-45dc-b999-091398c8e6a6",
   "metadata": {},
   "outputs": [
    {
     "name": "stdout",
     "output_type": "stream",
     "text": [
      "Correlación no encontrada\n"
     ]
    }
   ],
   "source": [
    "datos = [ {\"glucosa\": 95, \"presion\": (110, 75)}, \n",
    "         {\"glucosa\": 100, \"presion\": (120, 80)},\n",
    "         {\"glucosa\": 110, \"presion\": (130, 85)} ]\n",
    "#variable para determinar relación\n",
    "correlacion = True\n",
    "for dato in datos:\n",
    "    glucosa = dato['glucosa']\n",
    "    presion_arterial = dato['presion'][0]\n",
    "    #verificar si la glucosa está fuera de rango\n",
    "    if not (70 <= glucosa <= 90):\n",
    "        if 90 <= presion_arterial <= 120:\n",
    "            correlacion = False #si la glucosa está fuera de rango, pero la presión no, no hay correlación. Desde que uno sea false, ya la correlación no puede ser true ( no es muy correcto estadísticamente).\n",
    "if correlacion:\n",
    "    print ('Correlación encontrada')\n",
    "else:\n",
    "    print ('Correlación no encontrada')\n",
    "    \n",
    "            \n",
    "\n",
    "\n"
   ]
  },
  {
   "cell_type": "markdown",
   "id": "9bba3ac6-a44c-4047-97d4-432060110fed",
   "metadata": {},
   "source": [
    "### Ejercicio 14: Planificación de horarios de medicación\n",
    " \n",
    "Genera un horario de medicación para un paciente.\n",
    "\n",
    "Datos:  \n",
    "\n",
    "horas = [\"08:00\", \"12:00\", \"18:00\", \"22:00\"]\n",
    "medicamentos = [\"MedicamentoA\", \"MedicamentoB\"]\n"
   ]
  },
  {
   "cell_type": "code",
   "execution_count": 38,
   "id": "d8b1f30a-e810-4d28-87a7-e54368d22822",
   "metadata": {},
   "outputs": [
    {
     "name": "stdout",
     "output_type": "stream",
     "text": [
      "08:00 : Tomar MedicamentoA\n",
      "08:00 : Tomar MedicamentoB\n",
      "12:00 : Tomar MedicamentoA\n",
      "12:00 : Tomar MedicamentoB\n",
      "18:00 : Tomar MedicamentoA\n",
      "18:00 : Tomar MedicamentoB\n",
      "22:00 : Tomar MedicamentoA\n",
      "22:00 : Tomar MedicamentoB\n"
     ]
    }
   ],
   "source": [
    "horas = [\"08:00\", \"12:00\", \"18:00\", \"22:00\"] \n",
    "medicamentos = [\"MedicamentoA\", \"MedicamentoB\"]\n",
    "for hora in horas:\n",
    "    for med in medicamentos:\n",
    "        print(f'{hora} : Tomar {med}')\n"
   ]
  },
  {
   "cell_type": "markdown",
   "id": "87000c11-f0f7-47b4-ab8e-44324649bc6a",
   "metadata": {},
   "source": [
    "### Ejercicio 15: Evaluación de efectividad de tratamientos\n",
    "  \n",
    "Compara la efectividad de diferentes tratamientos mediante un puntaje.\n",
    "\n",
    "Datos:  \n",
    "\n",
    "tratamientos = {\n",
    "    \"TratamientoA\": [85, 90, 95],\n",
    "    \"TratamientoB\": [70, 75, 80]\n",
    "}"
   ]
  },
  {
   "cell_type": "code",
   "execution_count": 44,
   "id": "a88af64c-d89c-41a4-9f01-7d17699ea548",
   "metadata": {},
   "outputs": [
    {
     "name": "stdout",
     "output_type": "stream",
     "text": [
      "TratamientoA: efectividad promedio:  90.00 %\n",
      "\n",
      "TratamientoB: efectividad promedio:  75.00 %\n",
      "\n"
     ]
    }
   ],
   "source": [
    "tratamientos = { \"TratamientoA\": [85, 90, 95], \n",
    "                \"TratamientoB\": [70, 75, 80] }\n",
    "for tratamiento, puntuajes in tratamientos.items():\n",
    "    promedio = sum(puntuajes)/ len(puntuajes)\n",
    "\n",
    "    print(f'{tratamiento}: efectividad promedio: {promedio: .2f} %\\n')"
   ]
  },
  {
   "cell_type": "code",
   "execution_count": null,
   "id": "df757abe-fd5d-47ef-abeb-9a6d75406f07",
   "metadata": {},
   "outputs": [],
   "source": []
  }
 ],
 "metadata": {
  "kernelspec": {
   "display_name": "Python 3 (ipykernel)",
   "language": "python",
   "name": "python3"
  },
  "language_info": {
   "codemirror_mode": {
    "name": "ipython",
    "version": 3
   },
   "file_extension": ".py",
   "mimetype": "text/x-python",
   "name": "python",
   "nbconvert_exporter": "python",
   "pygments_lexer": "ipython3",
   "version": "3.12.9"
  }
 },
 "nbformat": 4,
 "nbformat_minor": 5
}
