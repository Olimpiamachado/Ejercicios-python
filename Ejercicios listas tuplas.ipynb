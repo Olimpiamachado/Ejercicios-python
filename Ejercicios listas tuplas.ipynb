{
 "cells": [
  {
   "cell_type": "markdown",
   "id": "518806c3-ff43-430f-8858-59ec81615988",
   "metadata": {},
   "source": [
    "### Ejercicio 1. Tienes una lista de pacientes que se han registrado en una clínica. Realiza las siguientes operaciones: ###\n",
    "-1. Agrega un nuevo paciente a la lista.\n",
    "-2. Elimina a un paciente que ya no se presenta.\n",
    "-3. Encuentra el índice del paciente \"María López\".\n",
    "-4. Ordena la lista de pacientes alfabéticamente.\n"
   ]
  },
  {
   "cell_type": "code",
   "execution_count": 1,
   "id": "30d18d5f-7549-4a26-89b7-dea6fddf1a29",
   "metadata": {},
   "outputs": [
    {
     "name": "stdout",
     "output_type": "stream",
     "text": [
      "['Juan Pérez', 'María López', 'Carlos Gómez', 'Ana Torres', 'Ana Lopez']\n",
      "['María López', 'Carlos Gómez', 'Ana Torres', 'Ana Lopez']\n",
      "0\n",
      "['Ana Lopez', 'Ana Torres', 'Carlos Gómez', 'María López']\n"
     ]
    }
   ],
   "source": [
    "pacientes = [\"Juan Pérez\", \"María López\", \"Carlos Gómez\", \"Ana Torres\"]\n",
    "pacientes.append('Ana Lopez')\n",
    "print (pacientes)\n",
    "pacientes.remove('Juan Pérez')\n",
    "print (pacientes)\n",
    "indice_maria = pacientes.index(\"María López\")\n",
    "print (indice_maria)\n",
    "pacientes.sort ()\n",
    "print (pacientes)"
   ]
  },
  {
   "cell_type": "markdown",
   "id": "2c633b43-8482-4a2a-b54f-d0d844307018",
   "metadata": {},
   "source": [
    "### Ejercicio 2: Tienes una tupla con los parámetros vitales de un paciente, que no se deben modificar: ###\n",
    "1. Accede y muestra el nombre del paciente.\n",
    "2. Muestra la presión arterial (sistólica y diastólica) del paciente.\n",
    "3. Si el valor de saturación de oxígeno es menor a 90, muestra un mensaje de alerta."
   ]
  },
  {
   "cell_type": "code",
   "execution_count": 11,
   "id": "a0d3662f-48bd-469c-8c87-212d9e30c688",
   "metadata": {},
   "outputs": [
    {
     "name": "stdout",
     "output_type": "stream",
     "text": [
      "Juan Pérez\n",
      "120 80\n",
      "Alerta, la saturación de oxígeno es baja\n"
     ]
    }
   ],
   "source": [
    "parametros_vitales = (\"Juan Pérez\", 36.5, 120, 80, 89) # (nombre, temperatura, sistólica, diastólica, saturación O2)\n",
    "nombre_paciente = parametros_vitales[0]\n",
    "temperatura  = parametros_vitales[1]\n",
    "sistolica = parametros_vitales[2]\n",
    "diastolica = parametros_vitales[3]\n",
    "saturacion = parametros_vitales[4]\n",
    "print (nombre_paciente)\n",
    "print ( (sistolica),(diastolica))\n",
    "if saturacion < 90:\n",
    "    print ('Alerta, la saturación de oxígeno es baja')\n"
   ]
  },
  {
   "cell_type": "markdown",
   "id": "f9e25b19-2f25-46d4-b1a8-58c448242608",
   "metadata": {},
   "source": [
    "### Sets: Diagnósticos Únicos de Enfermedades. Ejercicio 3: Tienes un conjunto de diagnósticos de enfermedades de varios pacientes. Realiza las siguientes operaciones: ###\n",
    "1. Agrega un nuevo diagnóstico al conjunto.\n",
    "2. Elimina un diagnóstico que ya no se está utilizando.\n",
    "3. Encuentra la intersección entre los diagnósticos de dos pacientes.\n",
    "4. Verifica si un conjunto de diagnósticos está completamente incluido en otro conjunto."
   ]
  },
  {
   "cell_type": "code",
   "execution_count": 19,
   "id": "e7c18f4d-8c78-436a-b29d-9c71224778d9",
   "metadata": {},
   "outputs": [
    {
     "name": "stdout",
     "output_type": "stream",
     "text": [
      "{'COVID-19', 'alergia', 'diabetes', 'asma', 'influenza', 'hipertensión'}\n",
      "{'COVID-19', 'alergia', 'diabetes', 'influenza', 'hipertensión'}\n",
      "{'hipertensión'}\n",
      "False\n"
     ]
    }
   ],
   "source": [
    "diagnosticos = {\"diabetes\", \"hipertensión\", \"asma\", \"influenza\", \"COVID-19\"}\n",
    "diagnosticos.add('alergia')\n",
    "print (diagnosticos)\n",
    "diagnosticos.remove('asma')\n",
    "print (diagnosticos)\n",
    "paciente2 = {\"hipertensión\", \"asma\", 'artritis'}\n",
    "Comunes = diagnosticos.intersection(paciente2)\n",
    "print (Comunes)\n",
    "es_subconjunto = paciente2.issubset(diagnosticos) #Para comprobar si el paciente 2 es subcojunto del set de diagnosticos (si todas las enfermedades del p2 estan en diagnosticos aparecerá \n",
    "print (es_subconjunto)"
   ]
  },
  {
   "cell_type": "markdown",
   "id": "0519fa18-964a-45d3-80f4-9bb1524d6bda",
   "metadata": {},
   "source": [
    "### Diccionarios. Ejercicio 4: Ejercicio: Tienes un diccionario con la información de un paciente. Realiza las siguientes operaciones: ###\n",
    "1. Agrega un nuevo tratamiento para el paciente.\n",
    "2. Elimina el contacto de emergencia.\n",
    "3. Muestra el nombre del paciente, su edad y los diagnósticos.\n",
    "4. Verifica si el paciente tiene un tratamiento para \"hipertensión\" y, en caso afirmativo, muestra el medicamento"
   ]
  },
  {
   "cell_type": "code",
   "execution_count": 2,
   "id": "f721dec5-aa50-4c53-8cbd-856ff4e76475",
   "metadata": {},
   "outputs": [
    {
     "name": "stdout",
     "output_type": "stream",
     "text": [
      "{'nombre': 'María López', 'edad': 45, 'diagnosticos': ['diabetes', 'hipertensión'], 'tratamientos': {'metformina': '500 mg/día', 'enalapril': '10 mg/día', 'insulina': ' 20mg/día'}}\n",
      "María López 45 ['diabetes', 'hipertensión']\n",
      "El paciente está siendo tratado para hipertensión con: enalapril (10 mg/día)\n"
     ]
    }
   ],
   "source": [
    "historia_clinica = {\n",
    "\"nombre\": \"María López\",\n",
    "\"edad\": 45,\n",
    "\"diagnosticos\": [\"diabetes\", \"hipertensión\"],\n",
    "\"tratamientos\": {\"metformina\": \"500 mg/día\", \"enalapril\": \"10 mg/día\"},\n",
    "\"contacto_emergencia\": {\"nombre\": \"Carlos López\", \"teléfono\": \"555-1234\"}\n",
    "}\n",
    "\n",
    "historia_clinica['tratamientos'].update({'insulina': ' 20mg/día'})\n",
    "historia_clinica.pop('contacto_emergencia')\n",
    "print (historia_clinica)\n",
    "\n",
    "nombre = historia_clinica.get('nombre')\n",
    "edad = historia_clinica.get('edad')\n",
    "diagnosticos = historia_clinica.get('diagnosticos')\n",
    "print(nombre, edad, diagnosticos)\n",
    "\n",
    "\n",
    "# Verificar si hay tratamiento para hipertensión\n",
    "for medicamento, dosis in historia_clinica[\"tratamientos\"].items():\n",
    "    if \"hipertensión\" in medicamento or \"enalapril\" in medicamento:  # Asociamos \"enalapril\" con hipertensión\n",
    "        print(f\"El paciente está siendo tratado para hipertensión con: {medicamento} ({dosis})\")\n",
    "        break\n",
    "else:\n",
    "    print(\"El paciente no tiene tratamiento específico para hipertensión.\")\n",
    "\n",
    "\n"
   ]
  },
  {
   "cell_type": "markdown",
   "id": "7d7cb2fa-e764-4473-817c-c069edad1ebf",
   "metadata": {},
   "source": [
    "### Ejercicio 5: Tienes una lista de medicamentos administrados a pacientes durante la semana. ###\n",
    "1. Agrega un nuevo medicamento al final de la lista.\n",
    "2. Elimina el medicamento que se administró el martes.\n",
    "3. Cuenta cuántas veces se administró el medicamento \"paracetamol\".\n",
    "4. Ordena la lista de medicamentos administrados en orden alfabético"
   ]
  },
  {
   "cell_type": "code",
   "execution_count": 3,
   "id": "a3a5a9e0-d387-4ac3-8af8-003d74140abd",
   "metadata": {},
   "outputs": [
    {
     "name": "stdout",
     "output_type": "stream",
     "text": [
      "['paracetamol', 'metformina', 'insulina', 'paracetamol', 'aspirina']\n",
      "Se ordena alfabeticamente, se crea nueva lista: ['aspirina', 'insulina', 'metformina', 'paracetamol', 'paracetamol']\n",
      "Lista original sin ordenar: ['paracetamol', 'metformina', 'insulina', 'paracetamol', 'aspirina']\n",
      "Lista original ordenada: ['aspirina', 'insulina', 'metformina', 'paracetamol', 'paracetamol']\n"
     ]
    },
    {
     "data": {
      "text/plain": [
       "2"
      ]
     },
     "execution_count": 3,
     "metadata": {},
     "output_type": "execute_result"
    }
   ],
   "source": [
    "medicamentos_admin = [\"paracetamol\", \"ibuprofeno\", \"metformina\", \"insulina\",\"paracetamol\"]\n",
    "medicamentos_admin.append('aspirina')\n",
    "medicamentos_admin.remove('ibuprofeno')\n",
    "print(medicamentos_admin)\n",
    "\n",
    "# Ordenar alfabéticamente\n",
    "ordenados = sorted(medicamentos_admin)\n",
    "print(f\"Se ordena alfabeticamente, se crea nueva lista: {ordenados}\")\n",
    "print(f\"Lista original sin ordenar: {medicamentos_admin}\")\n",
    "\n",
    "# Se ordena la propia lista\n",
    "medicamentos_admin.sort()\n",
    "print(f\"Lista original ordenada: {medicamentos_admin}\")\n",
    "\n",
    "\n",
    "medicamentos_admin.count('paracetamol')"
   ]
  },
  {
   "cell_type": "markdown",
   "id": "4a6db00c-c624-4fba-a368-2f0512f77121",
   "metadata": {},
   "source": [
    "### Ejercicio 6: Tienes una tupla con los nombres de los medicamentos y las dosis prescritas de un paciente: ###\n",
    "1. Accede y muestra el medicamento \"metformina\" junto con su dosis.\n",
    "2. Muestra la cantidad total de medicamentos prescritos."
   ]
  },
  {
   "cell_type": "code",
   "execution_count": 57,
   "id": "5c9b1380-40c5-400c-ac20-faf967406d01",
   "metadata": {},
   "outputs": [
    {
     "name": "stdout",
     "output_type": "stream",
     "text": [
      "Medicamento: metformina, Dosis: 500 mg\n",
      "Cantidad total de medicamentos prescritos: 3\n"
     ]
    }
   ],
   "source": [
    "medicamentos_prescritos = (\"metformina\", \"500 mg\", \"enalapril\", \"10 mg\", \"insulina\", \"20 UI\")\n",
    "\n",
    "# 1. Acceder y mostrar el medicamento \"metformina\" junto con su dosis\n",
    "indice_metformina = 0  # Índice de metformina\n",
    "dosis_metformina = medicamentos_prescritos[indice_metformina + 1]  # Dosis está en el siguiente índice\n",
    "print(f\"Medicamento: {medicamentos_prescritos[indice_metformina]}, Dosis: {dosis_metformina}\")\n",
    "\n",
    "# 2. Mostrar la cantidad total de medicamentos prescritos\n",
    "cantidad_medicamentos = len(medicamentos_prescritos) // 2  # Dividimos entre 2 porque hay un par (medicamento, dosis)\n",
    "print(f\"Cantidad total de medicamentos prescritos: {cantidad_medicamentos}\")\n"
   ]
  },
  {
   "cell_type": "markdown",
   "id": "1859546b-480c-4d77-9649-3bded88c8900",
   "metadata": {},
   "source": [
    "### Sets. Ejercicio 7: Tienes un conjunto de enfermedades preexistentes de un paciente: ###\n",
    "1. Agrega una nueva enfermedad al registro.\n",
    "2. Elimina una enfermedad del conjunto.\n",
    "3. Verifica si el paciente tiene \"diabetes\" en su registro "
   ]
  },
  {
   "cell_type": "code",
   "execution_count": 60,
   "id": "3b951571-45d6-4221-9746-f4426ced209d",
   "metadata": {},
   "outputs": [
    {
     "name": "stdout",
     "output_type": "stream",
     "text": [
      "{'asma', 'diabetes', 'alergias'}\n",
      "El paciente tiene diabetes\n"
     ]
    }
   ],
   "source": [
    "enfermedades_preexistentes = {\"hipertensión\", \"asma\", \"diabetes\"}\n",
    "enfermedades_preexistentes.add('alergias')\n",
    "enfermedades_preexistentes.remove('hipertensión')\n",
    "print(enfermedades_preexistentes)\n",
    "if 'diabetes' in enfermedades_preexistentes:\n",
    "    print ('El paciente tiene diabetes')"
   ]
  },
  {
   "cell_type": "markdown",
   "id": "261aac66-217f-435d-91e0-9534c8ad8f45",
   "metadata": {},
   "source": [
    "### Ejercicio 8: Tienes un diccionario con datos de pacientes y sus consultas médicas: ###\n",
    "1. Agrega una nueva consulta para un paciente específico.\n",
    "2. Elimina un paciente que ya no pertenece al registro.\n",
    "3. Muestra todas las consultas de un paciente."
   ]
  },
  {
   "cell_type": "code",
   "execution_count": 5,
   "id": "36cb886e-99a1-482a-a826-6b0e38d5193a",
   "metadata": {},
   "outputs": [
    {
     "name": "stdout",
     "output_type": "stream",
     "text": [
      "{'Juan Pérez': ['consulta 1', 'consulta 2', 'consulta 3']}\n",
      "Consultas de 'Juan Pérez': ['consulta 1', 'consulta 2', 'consulta 3']\n",
      "Todas las consultas de todos los pacientes: ['consulta 1', 'consulta 2', 'consulta 3']\n"
     ]
    }
   ],
   "source": [
    "pacientes_registro = {\n",
    "\"Juan Pérez\": [\"consulta 1\", \"consulta 2\"],\n",
    "\"María López\": [\"consulta 1\", \"consulta 2\"]\n",
    "}\n",
    "#Otra forma\n",
    "#pacientes_registro['Juan Pérez'].append('consulta 3') \n",
    "#print (pacientes_registro)\n",
    "\n",
    "# Agregar \"consulta 3\" para \"Juan Pérez\"\n",
    "nueva_consulta = {\"Juan Pérez\": pacientes_registro[\"Juan Pérez\"] + [\"consulta 3\"]}\n",
    "pacientes_registro.update(nueva_consulta)\n",
    "\n",
    "pacientes_registro.pop('María López')\n",
    "print(pacientes_registro)\n",
    "\n",
    "#pacientes_registro.values()\n",
    "#print(pacientes_registro)\n",
    "\n",
    "# Mostrar todas las consultas de \"Juan Pérez\"\n",
    "consultas_juan_perez = pacientes_registro.get(\"Juan Pérez\", [])\n",
    "print(\"Consultas de 'Juan Pérez':\", consultas_juan_perez)\n",
    "\n",
    "# Opcional: Mostrar todas las consultas de todos los pacientes\n",
    "todas_las_consultas = [consulta for sublist in pacientes_registro.values() for consulta in sublist]\n",
    "print(\"Todas las consultas de todos los pacientes:\", todas_las_consultas)\n",
    "\n",
    "\n"
   ]
  },
  {
   "cell_type": "markdown",
   "id": "ad1e041a-9d4f-4976-b8fa-c807a6f5a5a7",
   "metadata": {},
   "source": [
    "### Ejercicio 9: Se tiene una lista de pacientes que esperan para la consulta. Realiza las siguientes operaciones: ###\n",
    "1. Agrega 3 nuevos pacientes a la lista.\n",
    "2. Elimina al paciente que tiene más tiempo esperando.\n",
    "3. Muestra la lista de pacientes en orden de llegada (del primero al último)."
   ]
  },
  {
   "cell_type": "code",
   "execution_count": 10,
   "id": "7638f5a6-678e-41fb-9ae9-21609bfe8f7b",
   "metadata": {},
   "outputs": [
    {
     "name": "stdout",
     "output_type": "stream",
     "text": [
      "Lista con los nuevos pacientes: ['Carlos Gómez', 'Ana Torres', 'Juan Pérez', 'Alba Díaz', 'Pablo Martín', 'María Rodríguez']\n",
      "Lista sin el paciente atendido: ['Ana Torres', 'Juan Pérez', 'Alba Díaz', 'Pablo Martín', 'María Rodríguez']\n",
      "Lista con los pacientes en orden de llegada: ['Ana Torres', 'Juan Pérez', 'Alba Díaz', 'Pablo Martín', 'María Rodríguez']\n"
     ]
    }
   ],
   "source": [
    "pacientes_espera = [\"Carlos Gómez\", \"Ana Torres\", \"Juan Pérez\"]\n",
    "pacientes_espera.extend(['Alba Díaz', 'Pablo Martín', 'María Rodríguez'])\n",
    "print('Lista con los nuevos pacientes:' , (pacientes_espera))\n",
    "\n",
    "pacientes_espera.remove('Carlos Gómez')\n",
    "print('Lista sin el paciente atendido:' , (pacientes_espera))\n",
    "\n",
    "print('Lista con los pacientes en orden de llegada:' , (pacientes_espera))\n",
    "\n",
    "\n"
   ]
  },
  {
   "cell_type": "markdown",
   "id": "eaff7ee1-6ff0-4fd0-9eef-48c65a361849",
   "metadata": {},
   "source": [
    "### Ejercicio 10. : Se tienen tuplas de medicamentos prescritos para distintas especialidades médicas. Realiza las siguientes operaciones: ###\n",
    "1. Encuentra los medicamentos recetados en la especialidad de \"cardiología\".\n",
    "2. Obtén el primer medicamento recetado en \"neurología\"."
   ]
  },
  {
   "cell_type": "code",
   "execution_count": 12,
   "id": "28dbf018-8dcb-41df-aca4-3d4496ad3ace",
   "metadata": {},
   "outputs": [
    {
     "name": "stdout",
     "output_type": "stream",
     "text": [
      "Medicamentos recetados en la especialidad de cardiología: ('atenolol', 'amlodipino', 'lisinopril')\n",
      "El primer medicamento recetado en neurología es: gabapentina\n"
     ]
    }
   ],
   "source": [
    "medicamentos_cardiologia = (\"atenolol\", \"amlodipino\", \"lisinopril\")\n",
    "medicamentos_neurologia = (\"gabapentina\", \"lamotrigina\")\n",
    "\n",
    "print('Medicamentos recetados en la especialidad de cardiología:', (medicamentos_cardiologia))\n",
    "\n",
    "primer_medicamento= medicamentos_neurologia[0]\n",
    "print('El primer medicamento recetado en neurología es:' , (primer_medicamento))\n",
    "\n"
   ]
  },
  {
   "cell_type": "markdown",
   "id": "76879695-4b71-40e6-9725-099003985a2b",
   "metadata": {},
   "source": [
    "### Ejercicio 11: Tienes un conjunto de diagnósticos de varios pacientes. ###\n",
    "Encuentra los diagnósticos comunes entre dos pacientes y aquellos que son exclusivos de cada uno.\n"
   ]
  },
  {
   "cell_type": "code",
   "execution_count": 16,
   "id": "8ec2a404-d783-4cdc-a733-f3dade6e8469",
   "metadata": {},
   "outputs": [
    {
     "name": "stdout",
     "output_type": "stream",
     "text": [
      "Los diagnosticos comunes entre los 2 pacientes son: {'hipertensión'}\n",
      "Los diganosticos exclusivos del primer paciente son: {'insuficiencia renal', 'diabetes'}\n",
      "Los diganosticos exclusivos del segundo paciente son: {'asma', 'artritis'}\n"
     ]
    }
   ],
   "source": [
    "diagnosticos_paciente_1 = {\"diabetes\", \"hipertensión\", \"insuficiencia renal\"}\n",
    "diagnosticos_paciente_2 = {\"hipertensión\", \"asma\", \"artritis\"}\n",
    "\n",
    "diagnosticos_comunes = diagnosticos_paciente_1.intersection(diagnosticos_paciente_2)\n",
    "print('Los diagnosticos comunes entre los 2 pacientes son:', (diagnosticos_comunes))\n",
    "\n",
    "diagnosticos_exclusivos_1 = diagnosticos_paciente_1.difference(diagnosticos_paciente_2)\n",
    "print('Los diganosticos exclusivos del primer paciente son:', (diagnosticos_exclusivos_1))\n",
    "\n",
    "diagnosticos_exclusivos_2 = diagnosticos_paciente_2.difference(diagnosticos_paciente_1)\n",
    "print('Los diganosticos exclusivos del segundo paciente son:', (diagnosticos_exclusivos_2))\n"
   ]
  },
  {
   "cell_type": "markdown",
   "id": "3eab8b47-acea-4bf7-89da-ff88a9983f28",
   "metadata": {},
   "source": [
    "### Ejercicio 12: Tienes un diccionario con los medicamentos recetados a diferentes pacientes. Realiza las siguientes operaciones: ###\n",
    "1. Agrega un medicamento a un paciente específico.\n",
    "2. Muestra los medicamentos recetados a un paciente dado.\n",
    "3. Si un paciente tiene más de 3 medicamentos recetados, muestra un mensaje indicando \"Paciente con tratamiento complejo\"."
   ]
  },
  {
   "cell_type": "code",
   "execution_count": 34,
   "id": "a77a92cb-b7f8-4930-a056-a5ebd2833f36",
   "metadata": {},
   "outputs": [
    {
     "name": "stdout",
     "output_type": "stream",
     "text": [
      "Lista de medicamentos actualizada: {'Juan Pérez': ['metformina', 'enalapril', 'aspirina'], 'María López': ['insulina', 'paracetamol', 'ibuprofeno']}\n",
      "Medicamentos recetados a María: ['insulina', 'paracetamol', 'ibuprofeno']\n",
      "Paciente 'Juan Pérez' con tratamiento complejo.\n",
      "Paciente 'María López' con tratamiento complejo.\n"
     ]
    }
   ],
   "source": [
    "medicamentos_pacientes = {\n",
    "\"Juan Pérez\": [\"metformina\", \"enalapril\"],\n",
    "\"María López\": [\"insulina\", \"paracetamol\", \"ibuprofeno\"]\n",
    "}\n",
    "nuevo_medicamento = medicamentos_pacientes.get(\"Juan Pérez\", []) + [\"aspirina\"]\n",
    "medicamentos_pacientes.update({\"Juan Pérez\": nuevo_medicamento})\n",
    "print('Lista de medicamentos actualizada:', (medicamentos_pacientes))\n",
    "\n",
    "medicamentos_maria = medicamentos_pacientes.get('María López')\n",
    "print ('Medicamentos recetados a María:', (medicamentos_maria))\n",
    "\n",
    "#for tratamientos_pacientes in medicamentos_pacientes:\n",
    "    #if len(tratamientos_pacientes) > 2:\n",
    "        #print('Paciente con tratamiento complejo')\n",
    "\n",
    "for paciente, medicamentos in medicamentos_pacientes.items():  #items devuelev una lista de los pares (clave,valor)\n",
    "    if len(medicamentos) > 2:\n",
    "        print(f\"Paciente '{paciente}' con tratamiento complejo.\")\n",
    "    else:\n",
    "        print(f\"Paciente '{paciente}' sin tratamiento complejo.\")\n"
   ]
  },
  {
   "cell_type": "markdown",
   "id": "a25a9774-f057-45d7-97d2-01c10cdd64af",
   "metadata": {},
   "source": [
    "### Ejercicio 13: Tienes una lista con los resultados de los análisis de sangre de varios pacientes: ###\n",
    "1. Añade los resultados de 3 nuevos pacientes.\n",
    "2. Ordena los resultados por valores numéricos (por ejemplo, niveles de glucosa).\n",
    "3. Filtra los resultados donde el nivel de glucosa es superior a 200"
   ]
  },
  {
   "cell_type": "code",
   "execution_count": 41,
   "id": "d10b184a-0875-4309-b74e-02c53464c7a2",
   "metadata": {},
   "outputs": [
    {
     "name": "stdout",
     "output_type": "stream",
     "text": [
      "Lista actualizada de resultados: [(105, 'Juan Pérez'), (245, 'Carlos Gómez'), (190, 'Ana Torres'), (200, 'María lópez'), (180, 'Pablo Mesa'), (260, 'Laura díaz')]\n",
      "Resultados de laboratorio ordenados: [(105, 'Juan Pérez'), (180, 'Pablo Mesa'), (190, 'Ana Torres'), (200, 'María lópez'), (245, 'Carlos Gómez'), (260, 'Laura díaz')]\n",
      "Resultados con nivel de glucosa superior a 200: [(245, 'Carlos Gómez'), (260, 'Laura díaz')]\n"
     ]
    }
   ],
   "source": [
    "resultados_laboratorio = [(105, \"Juan Pérez\"), (245, \"Carlos Gómez\"), (190, \"Ana Torres\")]\n",
    "\n",
    "resultados_laboratorio.extend([(200, 'María lópez'), (180, 'Pablo Mesa'), (260, 'Laura díaz')])\n",
    "print('Lista actualizada de resultados:', (resultados_laboratorio))\n",
    "\n",
    "resultados_laboratorio.sort()\n",
    "print ('Resultados de laboratorio ordenados:', (resultados_laboratorio))\n",
    "\n",
    "#for glucosa, paciente in resultados_laboratorio:\n",
    "    #if glucosa > 200:\n",
    "        #print(f\"El nivel de glucosa de '{paciente}' es elevado\")  #Aquí me imprime cada vez que pasa por el for, no me guarda una lista\n",
    "\n",
    "resultados_filtrados = [] #para que el resultado sea una lista\n",
    "for resultado in resultados_laboratorio:\n",
    "    if resultado[0] > 200:  # Verificar si el nivel de glucosa es mayor a 200\n",
    "        resultados_filtrados.append(resultado)\n",
    "\n",
    "print(\"Resultados con nivel de glucosa superior a 200:\", resultados_filtrados)\n",
    "              \n",
    "    \n",
    "\n",
    "\n"
   ]
  },
  {
   "cell_type": "markdown",
   "id": "0b27764d-ea2c-4cea-a4d3-2b38ad261f1a",
   "metadata": {},
   "source": [
    "### Ejercicio 14: Tienes tuplas con la fecha de las consultas médicas de los pacientes: ###\n",
    "1. Accede a la fecha de la consulta de un paciente específico.\n",
    "2. Verifica si el paciente tiene una consulta programada dentro de los próximos 7 días."
   ]
  },
  {
   "cell_type": "code",
   "execution_count": 42,
   "id": "a6ce7b59-6281-45b2-9ebb-eef8c6ca3ad3",
   "metadata": {},
   "outputs": [
    {
     "name": "stdout",
     "output_type": "stream",
     "text": [
      "La consulta de Juan Pérez es el Saturday 01 de February 02 de 2025.\n",
      "Juan Pérez NO tiene una consulta programada dentro de los próximos 7 días.\n"
     ]
    }
   ],
   "source": [
    "consultas_paciente = (\"2025-02-01\", \"Juan Pérez\")\n",
    "\n",
    "# Usando la libreria datetime\n",
    "from datetime import datetime, timedelta\n",
    "\n",
    "\n",
    "# Tupla con la fecha de la consulta y el nombre del paciente\n",
    "consultas_paciente = (\"2025-02-01\", \"Juan Pérez\")\n",
    "\n",
    "# Acceder a la fecha de la consulta\n",
    "fecha_consulta_str = consultas_paciente[0]\n",
    "fecha_consulta = datetime.strptime(fecha_consulta_str, \"%Y-%m-%d\")\n",
    "print(f\"La consulta de {consultas_paciente[1]} es el {fecha_consulta.strftime('%A %d de %B %m de %Y')}.\")\n",
    "\n",
    "# Verificar si la consulta está dentro de los próximos 7 días\n",
    "hoy = datetime.today()\n",
    "siete_dias_despues = hoy + timedelta(days=7)\n",
    "\n",
    "if hoy <= fecha_consulta <= siete_dias_despues:\n",
    "    print(f\"{consultas_paciente[1]} tiene una consulta programada dentro de los próximos 7 días.\")\n",
    "else:\n",
    "    print(f\"{consultas_paciente[1]} NO tiene una consulta programada dentro de los próximos 7 días.\")"
   ]
  },
  {
   "cell_type": "markdown",
   "id": "168fce2a-220b-42e9-99b7-c42506c00a9e",
   "metadata": {},
   "source": [
    "### Ejercicio 15: Tienes un conjunto de enfermedades crónicas y otro de enfermedades agudas: ### \n",
    "Encuentra las enfermedades comunes y las que son exclusivas de cada conjunto."
   ]
  },
  {
   "cell_type": "code",
   "execution_count": 44,
   "id": "42e9051b-2512-4fa0-bef5-c8c340c26dcd",
   "metadata": {},
   "outputs": [
    {
     "name": "stdout",
     "output_type": "stream",
     "text": [
      "Las enfermedades comunes son: {'diabetes'}\n",
      "Las enfermedades exclusivamente crónicas son: {'asma', 'hipertensión'}\n",
      "Las enfermedades exclusivamente agudas son: {'influenza', 'neumonía'}\n"
     ]
    }
   ],
   "source": [
    "enfermedades_cronicas = {\"hipertensión\", \"diabetes\", \"asma\"}\n",
    "enfermedades_agudas = {\"influenza\", \"neumonía\", \"diabetes\"}\n",
    "\n",
    "enfermedades_comunes = enfermedades_cronicas.intersection(enfermedades_agudas)\n",
    "print('Las enfermedades comunes son:', (enfermedades_comunes))\n",
    "\n",
    "enfermedades_solo_cronicas= enfermedades_cronicas.difference(enfermedades_agudas)\n",
    "print ('Las enfermedades exclusivamente crónicas son:', (enfermedades_solo_cronicas))\n",
    "\n",
    "enfermedades_solo_agudas= enfermedades_agudas.difference(enfermedades_cronicas)\n",
    "print ('Las enfermedades exclusivamente agudas son:', (enfermedades_solo_agudas))\n"
   ]
  },
  {
   "cell_type": "markdown",
   "id": "664edd94-fb89-41f4-b4d0-73be2f30345a",
   "metadata": {},
   "source": [
    "### Ejercicio 16: Tienes un diccionario con los pacientes y sus respectivos tratamientos: ####\n",
    "1. Añade un nuevo medicamento a un paciente específico.\n",
    "2. Muestra los tratamientos de todos los pacientes con más de 2 medicamentos.\n",
    "3. Verifica si un paciente tiene un tratamiento para \"hipertensión\".\n",
    "\n"
   ]
  },
  {
   "cell_type": "code",
   "execution_count": 59,
   "id": "e44b7214-05ce-4616-a980-048747e04c7b",
   "metadata": {},
   "outputs": [
    {
     "name": "stdout",
     "output_type": "stream",
     "text": [
      "Lista de tratamientos actualizada: {'Juan Pérez': ['metformina', 'enalapril', 'aspirina'], 'María López': ['insulina', 'paracetamol', 'ibuprofeno']}\n",
      "El paciente Juan Pérez tiene más de 2 medicamentos, medicamentos: ['metformina', 'enalapril', 'aspirina']\n",
      "El paciente María López tiene más de 2 medicamentos, medicamentos: ['insulina', 'paracetamol', 'ibuprofeno']\n",
      "El paciente Juan Pérez tiene tratamiento para hipertensión\n"
     ]
    }
   ],
   "source": [
    "tratamientos_pacientes_2 = {\n",
    "\"Juan Pérez\": [\"metformina\", \"enalapril\"],\n",
    "\"María López\": [\"insulina\", \"paracetamol\", \"ibuprofeno\"]\n",
    "}\n",
    "\n",
    "tratamiento_nuevo = tratamientos_pacientes_2.get('Juan Pérez', []) + ['aspirina']\n",
    "tratamientos_pacientes_2.update({'Juan Pérez': tratamiento_nuevo})\n",
    "print('Lista de tratamientos actualizada:', (tratamientos_pacientes_2))\n",
    "\n",
    "for pacientes, medicamentos in tratamientos_pacientes_2.items():\n",
    "    if len(medicamentos) > 2 :\n",
    "        print(f'El paciente {pacientes} tiene más de 2 medicamentos, medicamentos: {medicamentos}')\n",
    "\n",
    "for pacientes, medicamentos in tratamientos_pacientes_2.items():\n",
    "    if 'enalapril' in medicamentos:\n",
    "        print(f'El paciente {pacientes} tiene tratamiento para hipertensión')\n",
    "        \n",
    "    \n",
    "    \n",
    "\n",
    "                                                                    \n"
   ]
  },
  {
   "cell_type": "markdown",
   "id": "ccba271f-0f1b-4f36-8a5d-2272c69be590",
   "metadata": {},
   "source": [
    "### Ejercicio 17: Tienes una lista con los pacientes que han llegado a la sala de espera: ###\n",
    "1. Añade un nuevo paciente que acaba de llegar.\n",
    "2. Elimina al paciente que ya ha sido atendido.\n",
    "3. Muestra el primer y el último paciente de la lista."
   ]
  },
  {
   "cell_type": "code",
   "execution_count": 62,
   "id": "2723b891-abbd-4d57-a2ab-0de3ce2e344b",
   "metadata": {},
   "outputs": [
    {
     "name": "stdout",
     "output_type": "stream",
     "text": [
      "Lista actualizada: ['María López', 'Carlos Gómez', 'Ana Díaz']\n",
      "El primer paciente es: María López\n",
      "El último paciente es: Ana Díaz\n"
     ]
    }
   ],
   "source": [
    "sala_espera = [\"Juan Pérez\", \"María López\", \"Carlos Gómez\"]\n",
    "\n",
    "\n",
    "sala_espera.append('Ana Díaz')\n",
    "sala_espera.remove('Juan Pérez')\n",
    "print('Lista actualizada:', (sala_espera))\n",
    "\n",
    "print('El primer paciente es:', (sala_espera[0]))\n",
    "print('El último paciente es:', (sala_espera[-1]))\n"
   ]
  },
  {
   "cell_type": "code",
   "execution_count": null,
   "id": "9b47435c-0f76-43c5-97d6-3bc2793379ba",
   "metadata": {},
   "outputs": [],
   "source": []
  }
 ],
 "metadata": {
  "kernelspec": {
   "display_name": "Python 3 (ipykernel)",
   "language": "python",
   "name": "python3"
  },
  "language_info": {
   "codemirror_mode": {
    "name": "ipython",
    "version": 3
   },
   "file_extension": ".py",
   "mimetype": "text/x-python",
   "name": "python",
   "nbconvert_exporter": "python",
   "pygments_lexer": "ipython3",
   "version": "3.12.9"
  }
 },
 "nbformat": 4,
 "nbformat_minor": 5
}
